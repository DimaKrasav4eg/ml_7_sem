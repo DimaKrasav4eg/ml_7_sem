{
  "cells": [
    {
      "cell_type": "markdown",
      "metadata": {
        "id": "GG29836ctp4F"
      },
      "source": [
        "## Lab 2"
      ]
    },
    {
      "cell_type": "markdown",
      "metadata": {
        "id": "8jbbQMt_tp4J"
      },
      "source": [
        "### Part 3. Poetry generation\n",
        "\n",
        "Let's try to generate some poetry using RNNs.\n",
        "\n",
        "You have several choices here:\n",
        "\n",
        "* The Shakespeare sonnets, file `sonnets.txt` available in the notebook directory.\n",
        "\n",
        "* Роман в стихах \"Евгений Онегин\" Александра Сергеевича Пушкина. В предобработанном виде доступен по [ссылке](https://github.com/attatrol/data_sources/blob/master/onegin.txt).\n",
        "\n",
        "* Some other text source, if it will be approved by the course staff.\n",
        "\n",
        "Text generation can be designed in several steps:\n",
        "    \n",
        "1. Data loading.\n",
        "2. Dictionary generation.\n",
        "3. Data preprocessing.\n",
        "4. Model (neural network) training.\n",
        "5. Text generation (model evaluation).\n"
      ]
    },
    {
      "cell_type": "code",
      "execution_count": null,
      "metadata": {
        "id": "gfK7h706tp4L"
      },
      "outputs": [],
      "source": [
        "import string\n",
        "import os\n",
        "import numpy as np\n",
        "import matplotlib.pyplot as plt\n",
        "%matplotlib inline"
      ]
    },
    {
      "cell_type": "markdown",
      "metadata": {
        "id": "zo7kom1_tp4N"
      },
      "source": [
        "### Data loading: Shakespeare"
      ]
    },
    {
      "cell_type": "markdown",
      "metadata": {
        "id": "fs1b_D9Xtp4O"
      },
      "source": [
        "Shakespeare sonnets are awailable at this [link](http://www.gutenberg.org/ebooks/1041?msg=welcome_stranger). In addition, they are stored in the same directory as this notebook (`sonnetes.txt`). Simple preprocessing is already done for you in the next cell: all technical info is dropped."
      ]
    },
    {
      "cell_type": "code",
      "execution_count": null,
      "metadata": {
        "collapsed": true,
        "id": "w_xztcsqtp4O",
        "colab": {
          "base_uri": "https://localhost:8080/"
        },
        "outputId": "fa63471e-e0fe-46fc-f2b4-7c1717dc1fd3"
      },
      "outputs": [
        {
          "output_type": "stream",
          "name": "stdout",
          "text": [
            "--2024-01-24 18:53:19--  https://raw.githubusercontent.com/girafe-ai/ml-course/22f_basic/homeworks/lab02_deep_learning/sonnets.txt\n",
            "Resolving raw.githubusercontent.com (raw.githubusercontent.com)... 185.199.108.133, 185.199.109.133, 185.199.110.133, ...\n",
            "Connecting to raw.githubusercontent.com (raw.githubusercontent.com)|185.199.108.133|:443... connected.\n",
            "HTTP request sent, awaiting response... 200 OK\n",
            "Length: 119748 (117K) [text/plain]\n",
            "Saving to: ‘sonnets.txt’\n",
            "\n",
            "sonnets.txt         100%[===================>] 116.94K  --.-KB/s    in 0.02s   \n",
            "\n",
            "2024-01-24 18:53:20 (5.08 MB/s) - ‘sonnets.txt’ saved [119748/119748]\n",
            "\n"
          ]
        }
      ],
      "source": [
        "if not os.path.exists('sonnets.txt'):\n",
        "    !wget https://raw.githubusercontent.com/girafe-ai/ml-course/22f_basic/homeworks/lab02_deep_learning/sonnets.txt\n",
        "\n",
        "with open('sonnets.txt', 'r') as iofile:\n",
        "    text = iofile.readlines()\n",
        "\n",
        "TEXT_START = 45\n",
        "TEXT_END = -368\n",
        "text = text[TEXT_START : TEXT_END]\n",
        "assert len(text) == 2616"
      ]
    },
    {
      "cell_type": "markdown",
      "metadata": {
        "id": "N1K8rVxXtp4P"
      },
      "source": [
        "In opposite to the in-class practice, this time we want to predict complex text. Let's reduce the complexity of the task and lowercase all the symbols.\n",
        "\n",
        "Now variable `text` is a list of strings. Join all the strings into one and lowercase it."
      ]
    },
    {
      "cell_type": "code",
      "execution_count": null,
      "metadata": {
        "colab": {
          "base_uri": "https://localhost:8080/"
        },
        "id": "_O8DfW6mtp4Q",
        "outputId": "fbb5065c-3f87-4d97-c8e2-628f5baa3819"
      },
      "outputs": [
        {
          "output_type": "stream",
          "name": "stdout",
          "text": [
            "OK!\n"
          ]
        }
      ],
      "source": [
        "# Join all the strings into one and lowercase it\n",
        "# Put result into variable text.\n",
        "\n",
        "# Your great code here\n",
        "text_result = ''\n",
        "for s in text:\n",
        "    text_result += s.lower()\n",
        "text = text_result\n",
        "assert len(text) == 100225, 'Are you sure you have concatenated all the strings?'\n",
        "assert not any([x in set(text) for x in string.ascii_uppercase]), 'Uppercase letters are present'\n",
        "print('OK!')"
      ]
    },
    {
      "cell_type": "markdown",
      "metadata": {
        "id": "NJ9QpoqStp4V"
      },
      "source": [
        "Put all the characters, that you've seen in the text, into variable `tokens`."
      ]
    },
    {
      "cell_type": "code",
      "execution_count": null,
      "metadata": {
        "id": "hKwFnBBJtp4W"
      },
      "outputs": [],
      "source": [
        "tokens = sorted(set(text))\n",
        "tokens.append('<')  # <SOS>\n",
        "tokens.append('<')  # <EOS>\n",
        "tokens.append('_')  # <PAD>\n",
        "num_tokens = len(tokens)"
      ]
    },
    {
      "cell_type": "markdown",
      "metadata": {
        "id": "j_9fUXwStp4X"
      },
      "source": [
        "Create dictionary `token_to_idx = {<char>: <index>}` and dictionary `idx_to_token = {<index>: <char>}`"
      ]
    },
    {
      "cell_type": "code",
      "execution_count": null,
      "metadata": {
        "collapsed": true,
        "id": "5VAKN2MAtp4Y"
      },
      "outputs": [],
      "source": [
        "# dict <index>:<char>\n",
        "token_to_idx = {token: idx for idx, token in enumerate(tokens)}\n",
        "\n",
        "# dict <char>:<index>\n",
        "idx_to_token = {idx: token for idx, token in enumerate(tokens)}"
      ]
    },
    {
      "cell_type": "code",
      "source": [
        "import random\n",
        "def generate_batch(seq, n_subseq, l_subseq):\n",
        "    slen = len(seq)\n",
        "    result = np.zeros([n_subseq, l_subseq], 'int32')\n",
        "    for i in range(n_subseq):\n",
        "        s_index = random.randint(0, len(seq) - l_subseq)\n",
        "        e_index = s_index + l_subseq\n",
        "        line_id = [token_to_idx[c] for c in seq[s_index:e_index]]\n",
        "        result[i, :] = line_id[:]\n",
        "    return result"
      ],
      "metadata": {
        "id": "0REFhO9Hva7V"
      },
      "execution_count": null,
      "outputs": []
    },
    {
      "cell_type": "markdown",
      "metadata": {
        "id": "XbvMo28rtp4Y"
      },
      "source": [
        "*Comment: in this task we have only 38 different tokens, so let's use one-hot encoding.*"
      ]
    },
    {
      "cell_type": "markdown",
      "metadata": {
        "id": "xo6z94SPtp4Z"
      },
      "source": [
        "### Building the model"
      ]
    },
    {
      "cell_type": "markdown",
      "metadata": {
        "id": "7owlqxVMtp4Z"
      },
      "source": [
        "Now we want to build and train recurrent neural net which would be able to something similar to Shakespeare's poetry.\n",
        "\n",
        "Let's use vanilla RNN, similar to the one created during the lesson."
      ]
    },
    {
      "cell_type": "code",
      "source": [
        "import torch, torch.nn as nn\n",
        "import torch.nn.functional as F\n",
        "from random import sample\n",
        "from IPython.display import clear_output"
      ],
      "metadata": {
        "id": "4QVwB_Mwv8aG"
      },
      "execution_count": null,
      "outputs": []
    },
    {
      "cell_type": "code",
      "execution_count": null,
      "metadata": {
        "collapsed": true,
        "id": "PbnneTVctp4a"
      },
      "outputs": [],
      "source": [
        "class CharRNNLoop(nn.Module):\n",
        "    def __init__(self, num_tokens=num_tokens, emb_size=128, rnn_num_units=256):\n",
        "        super(self.__class__, self).__init__()\n",
        "        self.num_units = rnn_num_units\n",
        "        self.emb = nn.Embedding(num_tokens, emb_size)\n",
        "        self.rnn = nn.RNN(emb_size, rnn_num_units, batch_first=True)\n",
        "        self.hid_to_logits = nn.Linear(rnn_num_units, num_tokens)\n",
        "\n",
        "    def forward(self, x, hidden):\n",
        "        assert isinstance(x.data, torch.LongTensor)\n",
        "        out, h_seq = self.rnn(self.emb(x), hidden)\n",
        "        out = self.hid_to_logits(out)\n",
        "        # print(out.shape, h_seq.shape)\n",
        "        return out, h_seq\n",
        "    def initial_state(self, batch_size):\n",
        "        \"\"\" return rnn state before it processes first input (aka h0) \"\"\"\n",
        "        return torch.zeros(1, batch_size, self.num_units, requires_grad=True)\n"
      ]
    },
    {
      "cell_type": "code",
      "source": [
        "model = CharRNNLoop()\n",
        "lr=0.01\n",
        "opt = torch.optim.Adam(model.parameters(), lr=lr)\n",
        "history = []\n",
        "criterion = nn.CrossEntropyLoss()"
      ],
      "metadata": {
        "id": "pZdvLhasvSrJ"
      },
      "execution_count": null,
      "outputs": []
    },
    {
      "cell_type": "markdown",
      "metadata": {
        "id": "ihQDbFgStp4a"
      },
      "source": [
        "Plot the loss function (axis X: number of epochs, axis Y: loss function)."
      ]
    },
    {
      "cell_type": "code",
      "execution_count": null,
      "metadata": {
        "collapsed": true,
        "colab": {
          "base_uri": "https://localhost:8080/",
          "height": 837
        },
        "id": "ul4PoJ6utp4a",
        "outputId": "d6f17c68-a6ab-4817-9a3c-63b2198af931"
      },
      "outputs": [
        {
          "output_type": "display_data",
          "data": {
            "text/plain": [
              "<Figure size 640x480 with 1 Axes>"
            ],
            "image/png": "[encoded data removed]"
          },
          "metadata": {}
        },
        {
          "output_type": "stream",
          "name": "stderr",
          "text": [
            "  8%|▊         | 4/50 [00:10<02:05,  2.74s/it]\n"
          ]
        },
        {
          "output_type": "error",
          "ename": "KeyboardInterrupt",
          "evalue": "",
          "traceback": [
            "\u001b[0;31m---------------------------------------------------------------------------\u001b[0m",
            "\u001b[0;31mKeyboardInterrupt\u001b[0m                         Traceback (most recent call last)",
            "\u001b[0;32m<ipython-input-65-c6d24709aefe>\u001b[0m in \u001b[0;36m<cell line: 6>\u001b[0;34m()\u001b[0m\n\u001b[1;32m     17\u001b[0m \u001b[0;34m\u001b[0m\u001b[0m\n\u001b[1;32m     18\u001b[0m         \u001b[0mloss\u001b[0m \u001b[0;34m=\u001b[0m \u001b[0mcriterion\u001b[0m\u001b[0;34m(\u001b[0m\u001b[0mlogit_seq\u001b[0m\u001b[0;34m[\u001b[0m\u001b[0;34m:\u001b[0m\u001b[0;34m,\u001b[0m \u001b[0;34m:\u001b[0m\u001b[0;34m-\u001b[0m\u001b[0;36m1\u001b[0m\u001b[0;34m,\u001b[0m \u001b[0;34m:\u001b[0m\u001b[0;34m]\u001b[0m\u001b[0;34m.\u001b[0m\u001b[0mreshape\u001b[0m\u001b[0;34m(\u001b[0m\u001b[0;34m-\u001b[0m\u001b[0;36m1\u001b[0m\u001b[0;34m,\u001b[0m \u001b[0mnum_tokens\u001b[0m\u001b[0;34m)\u001b[0m\u001b[0;34m,\u001b[0m \u001b[0mactual_next_tokens\u001b[0m\u001b[0;34m.\u001b[0m\u001b[0mreshape\u001b[0m\u001b[0;34m(\u001b[0m\u001b[0;34m-\u001b[0m\u001b[0;36m1\u001b[0m\u001b[0;34m)\u001b[0m\u001b[0;34m)\u001b[0m\u001b[0;34m\u001b[0m\u001b[0;34m\u001b[0m\u001b[0m\n\u001b[0;32m---> 19\u001b[0;31m         \u001b[0mloss\u001b[0m\u001b[0;34m.\u001b[0m\u001b[0mbackward\u001b[0m\u001b[0;34m(\u001b[0m\u001b[0;34m)\u001b[0m\u001b[0;34m\u001b[0m\u001b[0;34m\u001b[0m\u001b[0m\n\u001b[0m\u001b[1;32m     20\u001b[0m         \u001b[0mopt\u001b[0m\u001b[0;34m.\u001b[0m\u001b[0mstep\u001b[0m\u001b[0;34m(\u001b[0m\u001b[0;34m)\u001b[0m\u001b[0;34m\u001b[0m\u001b[0;34m\u001b[0m\u001b[0m\n\u001b[1;32m     21\u001b[0m \u001b[0;34m\u001b[0m\u001b[0m\n",
            "\u001b[0;32m/usr/local/lib/python3.10/dist-packages/torch/_tensor.py\u001b[0m in \u001b[0;36mbackward\u001b[0;34m(self, gradient, retain_graph, create_graph, inputs)\u001b[0m\n\u001b[1;32m    490\u001b[0m                 \u001b[0minputs\u001b[0m\u001b[0;34m=\u001b[0m\u001b[0minputs\u001b[0m\u001b[0;34m,\u001b[0m\u001b[0;34m\u001b[0m\u001b[0;34m\u001b[0m\u001b[0m\n\u001b[1;32m    491\u001b[0m             )\n\u001b[0;32m--> 492\u001b[0;31m         torch.autograd.backward(\n\u001b[0m\u001b[1;32m    493\u001b[0m             \u001b[0mself\u001b[0m\u001b[0;34m,\u001b[0m \u001b[0mgradient\u001b[0m\u001b[0;34m,\u001b[0m \u001b[0mretain_graph\u001b[0m\u001b[0;34m,\u001b[0m \u001b[0mcreate_graph\u001b[0m\u001b[0;34m,\u001b[0m \u001b[0minputs\u001b[0m\u001b[0;34m=\u001b[0m\u001b[0minputs\u001b[0m\u001b[0;34m\u001b[0m\u001b[0;34m\u001b[0m\u001b[0m\n\u001b[1;32m    494\u001b[0m         )\n",
            "\u001b[0;32m/usr/local/lib/python3.10/dist-packages/torch/autograd/__init__.py\u001b[0m in \u001b[0;36mbackward\u001b[0;34m(tensors, grad_tensors, retain_graph, create_graph, grad_variables, inputs)\u001b[0m\n\u001b[1;32m    249\u001b[0m     \u001b[0;31m# some Python versions print out the first line of a multi-line function\u001b[0m\u001b[0;34m\u001b[0m\u001b[0;34m\u001b[0m\u001b[0m\n\u001b[1;32m    250\u001b[0m     \u001b[0;31m# calls in the traceback and some print out the last line\u001b[0m\u001b[0;34m\u001b[0m\u001b[0;34m\u001b[0m\u001b[0m\n\u001b[0;32m--> 251\u001b[0;31m     Variable._execution_engine.run_backward(  # Calls into the C++ engine to run the backward pass\n\u001b[0m\u001b[1;32m    252\u001b[0m         \u001b[0mtensors\u001b[0m\u001b[0;34m,\u001b[0m\u001b[0;34m\u001b[0m\u001b[0;34m\u001b[0m\u001b[0m\n\u001b[1;32m    253\u001b[0m         \u001b[0mgrad_tensors_\u001b[0m\u001b[0;34m,\u001b[0m\u001b[0;34m\u001b[0m\u001b[0;34m\u001b[0m\u001b[0m\n",
            "\u001b[0;31mKeyboardInterrupt\u001b[0m: "
          ]
        }
      ],
      "source": [
        "from tqdm import tqdm\n",
        "n_subseq = 100\n",
        "l_subseq = 200\n",
        "n_batches = len(text) // (n_subseq*l_subseq)\n",
        "epochs = 50\n",
        "for _ in tqdm(range(epochs)):\n",
        "    for i in range(n_batches):\n",
        "        batch_ix = generate_batch(text, n_subseq, l_subseq)\n",
        "        batch_ix = torch.tensor(batch_ix, dtype=torch.int64)\n",
        "        # print(f'batch_ix = {batch_ix.shape}')\n",
        "        logit_seq, _ = model(batch_ix, model.initial_state(n_subseq))\n",
        "\n",
        "        # print(type(logp_seq))\n",
        "        predictions_probs = logit_seq[:, :-1, :]\n",
        "        actual_next_tokens = batch_ix[:, 1:]\n",
        "\n",
        "\n",
        "        loss = criterion(logit_seq[:, :-1, :].reshape(-1, num_tokens), actual_next_tokens.reshape(-1))\n",
        "        loss.backward()\n",
        "        opt.step()\n",
        "\n",
        "        opt.zero_grad()\n",
        "\n",
        "        history.append(loss.data.numpy())\n",
        "\n",
        "    clear_output(True)\n",
        "    plt.plot(history,label='loss')\n",
        "    plt.legend()\n",
        "    plt.show()\n",
        "\n",
        "assert np.mean(history[:10]) > np.mean(history[-10:]), \"RNN didn't converge.\""
      ]
    },
    {
      "cell_type": "code",
      "source": [
        "def generate_text(char_rnn, seed_phrase='die', max_length=100, temperature=1.0):\n",
        "    x_sequence = [token_to_idx[token] for token in seed_phrase]\n",
        "    x_sequence = torch.tensor([x_sequence], dtype=torch.int64)\n",
        "    hid_state = char_rnn.initial_state(batch_size=1)\n",
        "\n",
        "    out, hidden = char_rnn(x_sequence, hid_state)\n",
        "\n",
        "    most_likely = torch.argmax(out, dim=-1)\n",
        "    next_char = idx_to_token[most_likely[0][-1].item()]\n",
        "    seed_phrase += next_char\n",
        "    for _ in range(max_length - len(seed_phrase)):\n",
        "        out, hidden = char_rnn(most_likely, hidden)\n",
        "        most_likely = torch.argmax(out, dim=-1)\n",
        "        next_char = idx_to_token[most_likely[0][-1].item()]\n",
        "        seed_phrase += next_char\n",
        "    return seed_phrase\n"
      ],
      "metadata": {
        "id": "086YxPjvWeA5"
      },
      "execution_count": null,
      "outputs": []
    },
    {
      "cell_type": "code",
      "execution_count": null,
      "metadata": {
        "id": "n4Ptkgwetp4b",
        "outputId": "70da461d-63d3-4542-aa43-37d98bbcc296",
        "colab": {
          "base_uri": "https://localhost:8080/"
        }
      },
      "outputs": [
        {
          "output_type": "stream",
          "name": "stdout",
          "text": [
            "diedes tharen thangenit t thy pp tyonon there torey tow th bat  thar tt tt dinoouprn te tedeldeneve th tor there torey tow th bat  thar tt tt dinoouprn te tedeldeneve th tor there torey tow th bat  th\n"
          ]
        }
      ],
      "source": [
        "# An example of generated text.\n",
        "print(generate_text(model, seed_phrase='die', max_length=200))"
      ]
    },
    {
      "cell_type": "markdown",
      "metadata": {
        "id": "KJXFDsOjtp4c"
      },
      "source": [
        "### More poetic model\n",
        "\n",
        "Let's use LSTM instead of vanilla RNN and compare the results."
      ]
    },
    {
      "cell_type": "markdown",
      "metadata": {
        "id": "HYjh_4Z2tp4c"
      },
      "source": [
        "Plot the loss function of the number of epochs. Does the final loss become better?"
      ]
    },
    {
      "cell_type": "code",
      "execution_count": null,
      "metadata": {
        "collapsed": true,
        "id": "bytuWfM8tp4d"
      },
      "outputs": [],
      "source": [
        "class LSTM(nn.Module):\n",
        "    def __init__(self, num_tokens=num_tokens, emb_size=128, rnn_num_units=128, num_layers=2):\n",
        "        super(self.__class__, self).__init__()\n",
        "        self.num_layers = num_layers\n",
        "        self.emb_size = emb_size\n",
        "        self.emb = nn.Embedding(num_tokens, emb_size)\n",
        "        self.lstm = nn.LSTM(emb_size, rnn_num_units, num_layers, batch_first=True)\n",
        "        self.hid_to_logits = nn.Linear(emb_size, num_tokens)\n",
        "\n",
        "    def forward(self, x, hidden):\n",
        "        assert isinstance(x.data, torch.LongTensor)\n",
        "        out, h_seq = self.lstm(self.emb(x), hidden)\n",
        "        out = self.hid_to_logits(out)\n",
        "        # print(out.shape, h_seq.shape)\n",
        "        return out, h_seq\n",
        "    def initial_state(self, batch_size):\n",
        "        \"\"\" return rnn state before it processes first input (aka h0) \"\"\"\n",
        "        return (torch.zeros(self.num_layers, batch_size, self.emb_size, requires_grad=True), torch.zeros(self.num_layers, batch_size, self.emb_size, requires_grad=True))"
      ]
    },
    {
      "cell_type": "code",
      "source": [
        "model = LSTM()\n",
        "lr=0.01\n",
        "opt = torch.optim.AdamW(model.parameters(), lr=lr)\n",
        "history = []\n",
        "criterion = nn.CrossEntropyLoss()"
      ],
      "metadata": {
        "id": "oZWD2KiH6Czz"
      },
      "execution_count": null,
      "outputs": []
    },
    {
      "cell_type": "code",
      "source": [
        "n_subseq = 50\n",
        "l_subseq = 200\n",
        "n_batches = len(text) // (n_subseq*l_subseq)\n",
        "epochs = 50\n",
        "for _ in tqdm(range(epochs)):\n",
        "    for i in range(n_batches):\n",
        "        batch_ix = generate_batch(text, n_subseq, l_subseq)\n",
        "        batch_ix = torch.tensor(batch_ix, dtype=torch.int64)\n",
        "        # print(f'batch_ix = {batch_ix.shape}')\n",
        "        logit_seq, _ = model(batch_ix, model.initial_state(n_subseq))\n",
        "\n",
        "        # print(type(logp_seq))\n",
        "        predictions_probs = logit_seq[:, :-1, :]\n",
        "        actual_next_tokens = batch_ix[:, 1:]\n",
        "\n",
        "\n",
        "        loss = criterion(logit_seq[:, :-1, :].reshape(-1, num_tokens), actual_next_tokens.reshape(-1))\n",
        "        loss.backward()\n",
        "        opt.step()\n",
        "\n",
        "        opt.zero_grad()\n",
        "\n",
        "        history.append(loss.data.numpy())\n",
        "\n",
        "    clear_output(True)\n",
        "    plt.plot(history,label='loss')\n",
        "    plt.legend()\n",
        "    plt.show()\n",
        "\n",
        "assert np.mean(history[:10]) > np.mean(history[-10:]), \"RNN didn't converge.\""
      ],
      "metadata": {
        "colab": {
          "base_uri": "https://localhost:8080/",
          "height": 448
        },
        "id": "v-x38fr296kz",
        "outputId": "dfbadb3d-9f48-4535-9f87-fa63f0c09c33"
      },
      "execution_count": null,
      "outputs": [
        {
          "output_type": "display_data",
          "data": {
            "text/plain": [
              "<Figure size 640x480 with 1 Axes>"
            ],
            "image/png": "[encoded data removed]"
          },
          "metadata": {}
        },
        {
          "output_type": "stream",
          "name": "stderr",
          "text": [
            "100%|██████████| 50/50 [05:25<00:00,  6.51s/it]\n"
          ]
        }
      ]
    },
    {
      "cell_type": "markdown",
      "metadata": {
        "id": "lkLZ11SItp4d"
      },
      "source": [
        "Generate text using the trained net with different `temperature` parameter: `[0.1, 0.2, 0.5, 1.0, 2.0]`.\n",
        "\n",
        "Evaluate the results visually, try to interpret them."
      ]
    },
    {
      "cell_type": "code",
      "execution_count": null,
      "metadata": {
        "collapsed": true,
        "id": "taO9FQJKtp4d"
      },
      "outputs": [],
      "source": [
        "def generate_sample(model, seed_phrase=' ', max_length=100, temperature=0.2):\n",
        "    model.eval()\n",
        "    h, c = model.initial_state(1)\n",
        "    for i in range(0, max_length):\n",
        "        x = torch.tensor([[token_to_idx[c] for c in seed_phrase[i:]]])\n",
        "        y_pred, (h, c) = model(x, (h, c))\n",
        "        last_char_logits = y_pred[0][-1]\n",
        "        p = torch.nn.functional.softmax(last_char_logits / temperature, dim=0).detach().numpy()\n",
        "        char_index = np.random.choice(len(last_char_logits), p=p)\n",
        "        seed_phrase = seed_phrase + idx_to_token[char_index]\n",
        "    return seed_phrase\n",
        "\n"
      ]
    },
    {
      "cell_type": "code",
      "source": [
        "print(generate_sample(model, seed_phrase='when in disgrace', max_length=1000, temperature=0.5))"
      ],
      "metadata": {
        "colab": {
          "base_uri": "https://localhost:8080/"
        },
        "id": "uzX12IM4_nWo",
        "outputId": "32d59211-6e6c-4391-f231-d18e47176583"
      },
      "execution_count": null,
      "outputs": [
        {
          "output_type": "stream",
          "name": "stdout",
          "text": [
            "when in disgrace to store:\n",
            "    permination be;\n",
            "    if thou not such cross'd;\n",
            "  and all the rose.\n",
            "\n",
            "  lxxiii\n",
            "\n",
            "  when i forbid of your more than to the cold?\n",
            "    o! never with thee,\n",
            "  thought i pray the content,\n",
            "  that my soul doth stay,\n",
            "    that is i forgoth\n",
            "  to thee i love's rich of thee.\n",
            "\n",
            "  xxix\n",
            "\n",
            "  how can i will made of the pay.\n",
            "\n",
            "  lxxxiii\n",
            "\n",
            "  what with the part:\n",
            "    you shall outlive thee,\n",
            "    and they see i dost hide,\n",
            "    but make the rest:\n",
            "  but which i compare,\n",
            "  and in thy heart.\n",
            "\n",
            "  lxxxiii\n",
            "\n",
            "  whilst thou ward.\n",
            "\n",
            "  lxxxiii\n",
            "\n",
            "  o! what a this pride.\n",
            "    for nothing live,\n",
            "  that mare that which good content,\n",
            "  while me than thy sins all then like a jewel;\n",
            "  so it be touches state.\n",
            "    then hath my love,\n",
            "  and on thy praise,\n",
            "  while thou art in these despise,\n",
            "  which i compare,\n",
            "    that he i may,\n",
            "  to living that heart,\n",
            "  and by the prize.\n",
            "    so i conseit best,\n",
            "  as fair the shape;\n",
            "  then by advance have,\n",
            "  the cause of love,\n",
            "  and your sweet self devise.\n",
            "\n",
            "  xxix\n",
            "\n",
            "  my sin, and there is be.\n",
            "\n",
            "  cxxvi\n"
          ]
        }
      ]
    },
    {
      "cell_type": "markdown",
      "metadata": {
        "id": "kjHa0a2Ntp4f"
      },
      "source": [
        "### References\n",
        "1. <a href='http://karpathy.github.io/2015/05/21/rnn-effectiveness/'> Andrew Karpathy blog post about RNN. </a>\n",
        "There are several examples of genration: Shakespeare texts, Latex formulas, Linux Sourse Code and children names.\n",
        "2. <a href='https://github.com/karpathy/char-rnn'> Repo with char-rnn code </a>\n",
        "3. Cool repo with PyTorch examples: [link](https://github.com/spro/practical-pytorch`)"
      ]
    }
  ],
  "metadata": {
    "anaconda-cloud": {},
    "kernelspec": {
      "display_name": "Python 3",
      "language": "python",
      "name": "python3"
    },
    "language_info": {
      "codemirror_mode": {
        "name": "ipython",
        "version": 3
      },
      "file_extension": ".py",
      "mimetype": "text/x-python",
      "name": "python",
      "nbconvert_exporter": "python",
      "pygments_lexer": "ipython3",
      "version": "3.7.7"
    },
    "colab": {
      "provenance": []
    }
  },
  "nbformat": 4,
  "nbformat_minor": 0
}