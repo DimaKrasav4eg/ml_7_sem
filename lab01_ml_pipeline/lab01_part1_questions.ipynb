{
  "cells": [
    {
      "cell_type": "markdown",
      "metadata": {
        "id": "qyx0VDbQWhgQ"
      },
      "source": [
        "*Credits: materials from this notebook belong to YSDA [Practical DL](https://github.com/yandexdataschool/Practical_DL) course. Special thanks for making them available online.*"
      ]
    },
    {
      "cell_type": "markdown",
      "metadata": {
        "id": "9XHkGO8VWhgV"
      },
      "source": [
        "# Lab assignment №1, part 1\n",
        "\n",
        "This lab assignment consists of several parts. You are supposed to make some transformations, train some models, estimate the quality of the models and explain your results.\n",
        "\n",
        "Several comments:\n",
        "* Don't hesitate to ask questions, it's a good practice.\n",
        "* No private/public sharing, please. The copied assignments will be graded with 0 points.\n",
        "* Blocks of this lab will be graded separately."
      ]
    },
    {
      "cell_type": "markdown",
      "metadata": {
        "id": "RhYOovODWhgW"
      },
      "source": [
        "## 1. Matrix differentiation"
      ]
    },
    {
      "cell_type": "markdown",
      "metadata": {
        "id": "9QPlIYUgWhgX"
      },
      "source": [
        "Since it easy to google every task please please please try to undestand what's going on. The \"just answer\" thing will be not counted, make sure to present derivation of your solution. It is absolutely OK if you found an answer on web then just exercise in $\\LaTeX$ copying it into here."
      ]
    },
    {
      "cell_type": "markdown",
      "metadata": {
        "id": "tTRa1Lc8WhgY"
      },
      "source": [
        "Useful links:\n",
        "[1](http://www.machinelearning.ru/wiki/images/2/2a/Matrix-Gauss.pdf)\n",
        "[2](http://www.atmos.washington.edu/~dennis/MatrixCalculus.pdf)"
      ]
    },
    {
      "cell_type": "markdown",
      "metadata": {
        "id": "qKebjculWhgZ"
      },
      "source": [
        "## ex. 1"
      ]
    },
    {
      "cell_type": "markdown",
      "metadata": {
        "id": "6ijFPGExWhga"
      },
      "source": [
        "$$  \n",
        "y = x^Tx,  \\quad x \\in \\mathbb{R}^N\n",
        "$$"
      ]
    },
    {
      "cell_type": "markdown",
      "metadata": {
        "id": "_zuJXrK7Whga"
      },
      "source": [
        "$$\n",
        "\\frac{dy}{dx} =\n",
        "$$"
      ]
    },
    {
      "cell_type": "markdown",
      "source": [
        "Let's differentiate $y$ with respect to $x_i$​.\n",
        "$$\n",
        "\\frac{dy}{dx_i} = \\frac{d}{dx_i}(x^Tx)=\\frac{d}{dx_i}(x_1^2+...+x_n^2)=2x_i\n",
        "$$\n",
        "So, the answer:\n",
        "$$\n",
        "    \\frac{dy}{dx_i}=\\begin{pmatrix} 2x_1 \\\\ 2x_2 \\\\... \\\\ 2x_n \\end{pmatrix}\n",
        "$$"
      ],
      "metadata": {
        "id": "kQ_yHtNRY7db"
      }
    },
    {
      "cell_type": "markdown",
      "metadata": {
        "id": "7wOe4j93Whgc"
      },
      "source": [
        "## ex. 2"
      ]
    },
    {
      "cell_type": "markdown",
      "metadata": {
        "id": "vNwJkJeiWhgd"
      },
      "source": [
        "$$ y = tr(AB) \\quad A,B \\in \\mathbb{R}^{N \\times N} $$"
      ]
    },
    {
      "cell_type": "markdown",
      "metadata": {
        "id": "Lr7LX4bFWhge"
      },
      "source": [
        "$$\n",
        "y = \\sum_{i=0}^N\\sum_{k=0}^N a_{ik} b_{ki} \\\\\n",
        "\\frac{d}{dA} = \\begin{pmatrix}\n",
        "d/da_{11} & ... & d/da_{1N} \\\\\n",
        "... & & ... \\\\\n",
        "d/da_{N1} & ... & d/da_{NN}\n",
        "\\end{pmatrix} \\\\\n",
        "\\frac{dy}{dA} = \\begin{pmatrix}\n",
        "d(\\sum_{i=0}^N\\sum_{k=0}^N a_{ik} b_{ki})/da_{11} & ... & d(\\sum_{i=0}^N\\sum_{k=0}^N a_{ik} b_{ki})/da_{1N} \\\\\n",
        "... & & ... \\\\\n",
        "d(\\sum_{i=0}^N\\sum_{k=0}^N a_{ik} b_{ki})/da_{N1} & ... & d(\\sum_{i=0}^N\\sum_{k=0}^N a_{ik} b_{ki})/da_{NN}\n",
        "\\end{pmatrix} =\n",
        "\\begin{pmatrix}\n",
        "b_{11} & ... & b_{N1} \\\\\n",
        "b_{1N} & ... & b_{NN}\n",
        "\\end{pmatrix} = B^T\n",
        "$$"
      ]
    },
    {
      "cell_type": "markdown",
      "source": [],
      "metadata": {
        "id": "EnmAwjg7n7nh"
      }
    },
    {
      "cell_type": "markdown",
      "metadata": {
        "id": "xrPwLRz4Whgf"
      },
      "source": [
        "## ex. 3"
      ]
    },
    {
      "cell_type": "markdown",
      "metadata": {
        "id": "8NweDD-WWhgf"
      },
      "source": [
        "$$  \n",
        "y = x^TAc , \\quad A\\in \\mathbb{R}^{N \\times N}, x\\in \\mathbb{R}^{N}, c\\in \\mathbb{R}^{N}\n",
        "$$"
      ]
    },
    {
      "cell_type": "markdown",
      "metadata": {
        "id": "7TyKuBb4Whgf"
      },
      "source": [
        "$$\n",
        "x^T = (x_1 ... x_N) \\\\\n",
        "y = \\begin{pmatrix}\n",
        "y^1 \\\\\n",
        "... \\\\\n",
        "y^N\n",
        "\\end{pmatrix} \\\\\n",
        "\\frac{dy}{dx_β} = \\frac{d}{dx_β}(x_ia^i_jc_j) = a^j_{\\beta}c_j \\\\\n",
        "\\frac{dy}{dx} = Ac\n",
        "$$"
      ]
    },
    {
      "cell_type": "markdown",
      "metadata": {
        "id": "dVIyORQrWhgf"
      },
      "source": [
        "$$\n",
        "\\frac{dy}{dA} = \\frac{d}{dA}(x^TAc) = \\frac{d}{dA}\\sum_{i=1}^Nx_i\\sum_{j=1}^{N}a_{ij}c_{j}\\\\\n",
        "\\frac{d}{da_{pk}}\\sum_{i=1}^Nx_i\\sum_{j=1}^{N}a_{ij}c_{j}=x_pc_k \\\\\n",
        "\\frac{d}{dA}\\sum_{i=1}^Nx_i\\sum_{j=1}^{N}a_{ij}c_{j} = xc^T\n",
        "$$"
      ]
    },
    {
      "cell_type": "markdown",
      "metadata": {
        "id": "9RQeuclHWhgg"
      },
      "source": [
        "Hint for the latter (one of the ways): use *ex. 2* result and the fact\n",
        "$$\n",
        "tr(ABC) = tr (CAB)\n",
        "$$"
      ]
    },
    {
      "cell_type": "markdown",
      "metadata": {
        "id": "bZ0oTTZ2Whgg"
      },
      "source": [
        "## ex. 4"
      ]
    },
    {
      "cell_type": "markdown",
      "metadata": {
        "id": "hmF8EfNcWhgg"
      },
      "source": [
        "Classic matrix factorization example. Given matrix $X$ you need to find $A$, $S$ to approximate $X$. This can be done by simple gradient descent iteratively alternating $A$ and $S$ updates.\n",
        "$$\n",
        "J = || X - AS ||_F^2  , \\quad A\\in \\mathbb{R}^{N \\times R} , \\quad S\\in \\mathbb{R}^{R \\times M}\n",
        "$$\n",
        "$$\n",
        "\\frac{dJ}{dS} = ?\n",
        "$$\n",
        "\n",
        "You may use one of the following approaches:"
      ]
    },
    {
      "cell_type": "markdown",
      "metadata": {
        "id": "T1T0BP35Whgh"
      },
      "source": [
        "#### First approach\n",
        "Using ex.2 and the fact:\n",
        "$$\n",
        "|| X ||_F^2 = tr(XX^T)\n",
        "$$\n",
        "it is easy to derive gradients (you can find it in one of the refs)."
      ]
    },
    {
      "cell_type": "markdown",
      "metadata": {
        "id": "wVqzn7ncWhgh"
      },
      "source": [
        "#### Second approach\n",
        "You can use *slightly different techniques* if they suits you. Take a look at this derivation:\n",
        "<img src=\"https://github.com/girafe-ai/ml-course/blob/23f_basic/homeworks/lab01_ml_pipeline/grad.png?raw=1\">\n",
        "(excerpt from [Handbook of blind source separation, Jutten, page 517](https://books.google.ru/books?id=PTbj03bYH6kC&printsec=frontcover&dq=Handbook+of+Blind+Source+Separation&hl=en&sa=X&ved=0ahUKEwi-q_apiJDLAhULvXIKHVXJDWcQ6AEIHDAA#v=onepage&q=Handbook%20of%20Blind%20Source%20Separation&f=false), open for better picture)."
      ]
    },
    {
      "cell_type": "markdown",
      "metadata": {
        "id": "xy4s2XvxWhgh"
      },
      "source": [
        "#### Third approach\n",
        "And finally we can use chain rule!\n",
        "let $ F = AS $\n",
        "\n",
        "**Find**\n",
        "$$\n",
        "(\\frac{dJ}{dF})_{pk} = \\\\\n",
        "\\frac{dJ}{dF} =  \\frac{d}{dF}|| X - AS ||_F^2 = \\frac{d}{dF}tr((X-AS)(X-AS)^T) = \\frac{d}{dF}tr(XX^T-ASX^T-X(AS)^T + (AS)(AS)^T) = \\frac{d}{dF}tr(XX^T-FX^T-XF^T + FF^T) = \\frac{d}{dF}( tr(XX^T) - tr(FX^T) - tr(XF^T) + tr(FF^T)) = - X - X + 2F = 2(F-X)\n",
        "$$\n",
        "and\n",
        "$$\n",
        "\\frac{dF}{dS} =\n",
        "\\begin{pmatrix}\n",
        "\\begin{pmatrix} a_1 & 0 & 0 & ... \\end{pmatrix}\n",
        "& \\begin{pmatrix} 0 & a_1 & 0 & ... \\end{pmatrix} & ... \\\\\n",
        "\\begin{pmatrix} a_2 & 0 & 0 & ... \\end{pmatrix}\n",
        "& \\begin{pmatrix} 0 & a_2 & 0 & ... \\end{pmatrix} & ... \\\\\n",
        "...\n",
        "\\end{pmatrix}\\\\\n",
        "share = N \\times M \\times R \\times M\n",
        "$$\n",
        "(Надеюсь размерность написал правильно) \\\\\n",
        "$a_i = \\begin{pmatrix}  a_{1i}\\\\ a_{2i}\\\\ ... \\end{pmatrix}$ - столбец матрицы $A$\n",
        "\n",
        "(the shape should be $ NM \\times RM )$.\n",
        "\n",
        "Now it is easy do get desired gradients:\n",
        "$$\n",
        "(\\frac{dJ}{dS})_{pk} = \\frac{dJ}{ds_{pk}} = \\frac{dJ}{df_{pk}}\\frac{f_{pk}}{s_{pk}}\\\\\n",
        "\\frac{dJ}{dS} = \\frac{d}{dS}(tr( (X-AS)^T(X-AS) )) = \\frac{d}{dS}( tr(XX^T) - tr(FX^T) - tr(XF^T) + tr(FF^T))\\\\\n",
        "d\\,tr(FX^T) = tr(d(F)X^T + Fd(X^T)) = \\sum_{k=1}^{M}\\sum_{i=1}^{N}(df_{ik})x_{1k} + \\sum_{k=1}^{M}\\sum_{i=1}^{N}f_{ik}(dx_{1k})\\\\\n",
        "-\\sum_{k=1}^{M}\\sum_{i=1}^{N}(df_{ik})x_{1k} - \\sum_{k=1}^{M}\\sum_{i=1}^{N}f_{ik}(dx_{1k}) - \\sum_{k=1}^{M}\\sum_{i=1}^{N}(df_{ik})x_{1k} - \\sum_{k=1}^{M}\\sum_{i=1}^{N}f_{ik}(dx_{1k}) + \\sum_{k=1}^{M}\\sum_{i=1}^{N}(df_{ik})f_{1k} + \\sum_{k=1}^{M}\\sum_{i=1}^{N}f_{ik}(df_{1k}) = 2\\sum_{k=1}^{M}\\sum_{i=1}^{N}f_{ik}(df_{1k}) - 2\\sum_{k=1}^{M}\\sum_{i=1}^{N}f_{ik}(dx_{1k}) - 2\\sum_{k=1}^{M}\\sum_{i=1}^{N}(df_{ik})x_{1k}\\\\\n",
        "2\\sum_{k=1}^{M}\\sum_{i=1}^{N}f_{ik}(\\frac{df_{1k}}{ds_{pl}}) - 2\\sum_{k=1}^{M}\\sum_{i=1}^{N}f_{ik}(\\frac{dx_{1k}}{ds_{pl}}) - 2\\sum_{k=1}^{M}\\sum_{i=1}^{N}(\\frac{df_{ik}}{ds_{pl}})x_{1k} = 2\\sum_{k=1}^{M}\\sum_{i=1}^{N}f_{ik}(\\frac{df_{1k}}{ds_{pl}}) - 2\\sum_{k=1}^{M}\\sum_{i=1}^{N}(\\frac{df_{ik}}{ds_{pl}})x_{1k} = 2(\\sum_{k=1}^{M}\\sum_{i=1}^{N}f_{ik}(\\frac{df_{1k}}{ds_{pl}}) - (\\frac{df_{ik}}{ds_{pl}})x_{1k}) = 2(\\sum_{k=1}^{M}\\sum_{i=1}^{N}\\frac{df_{1k}}{ds_{pl}}(f_{ik} - x_{1k})) = 2A^T(F-X)\n",
        "$$\n",
        "A^T т. к. при дифф по $s_{ip}$ появляется столбец $a_{pi}$"
      ]
    },
    {
      "cell_type": "markdown",
      "metadata": {
        "collapsed": true,
        "jupyter": {
          "outputs_hidden": true
        },
        "id": "gIT80HbrWhgh"
      },
      "source": [
        "## 2. kNN questions\n",
        "Here come the questions from the assignment0_01. Please, refer to the assignment0_01 to get the context of the questions."
      ]
    },
    {
      "cell_type": "markdown",
      "metadata": {
        "id": "qe2hsGbMWhgh"
      },
      "source": [
        "### Question 1\n",
        "\n",
        "Notice the structured patterns in the distance matrix, where some rows or columns are visible brighter. (Note that with the default color scheme black indicates low distances while white indicates high distances.)\n",
        "\n",
        "- What in the data is the cause behind the distinctly bright rows?\n",
        "- What causes the columns?\n",
        "\n",
        "*Your Answer:* Полосы объясняются тем, что есть числа, которые в целом очень похожи по написанию с другими числами. Например 2 по написанию очень похожа на 1, 3, 7, 8. Очень близки местоположения черных квадратов ($ \\approx16$) и белых ($\\approx 0$). Это справедливо как для горизонтальных полос (где число из X_test сравнивается с каждым числом из X_train), так и для вертикальных.\n",
        "\n",
        "\n",
        "\n"
      ]
    },
    {
      "cell_type": "markdown",
      "metadata": {
        "id": "bjdYUoeqWhgi"
      },
      "source": [
        "### Question 2\n",
        "\n",
        "We can also use other distance metrics such as L1 distance.\n",
        "For pixel values $p_{ij}^{(k)}$ at location $(i,j)$ of some image $I_k$,\n",
        "\n",
        "the mean $\\mu$ across all pixels over all images is $$\\mu=\\frac{1}{nhw}\\sum_{k=1}^n\\sum_{i=1}^{h}\\sum_{j=1}^{w}p_{ij}^{(k)}$$\n",
        "And the pixel-wise mean $\\mu_{ij}$ across all images is\n",
        "$$\\mu_{ij}=\\frac{1}{n}\\sum_{k=1}^np_{ij}^{(k)}.$$\n",
        "The general standard deviation $\\sigma$ and pixel-wise standard deviation $\\sigma_{ij}$ is defined similarly.\n",
        "\n",
        "Which of the following preprocessing steps will not change the performance of a Nearest Neighbor classifier that uses L1 distance? Select all that apply.\n",
        "1. Subtracting the mean $\\mu$ ($\\tilde{p}_{ij}^{(k)}=p_{ij}^{(k)}-\\mu$.)\n",
        "2. Subtracting the per pixel mean $\\mu_{ij}$  ($\\tilde{p}_{ij}^{(k)}=p_{ij}^{(k)}-\\mu_{ij}$.)\n",
        "3. Subtracting the mean $\\mu$ and dividing by the standard deviation $\\sigma$.\n",
        "4. Subtracting the pixel-wise mean $\\mu_{ij}$ and dividing by the pixel-wise standard deviation $\\sigma_{ij}$.\n",
        "5. Rotating the coordinate axes of the data.\n",
        "\n",
        "*Your Answer:*\n",
        "1, 2, 3\n",
        "\n",
        "*Your Explanation:*\n",
        "\n",
        "1.\n",
        "$$\n",
        "    dist_{kl} = ||\\tilde{p}^{(k)} - \\tilde{p}^{(l)}||_1 = \\sum_{i=1}^{h}\\sum_{j=1}^{w} |\\tilde{p}_{ij}^{(k)} - \\tilde{p}_{ij}^{(l)}| = \\sum_{i=1}^{h}\\sum_{j=1}^{w} |(p_{ij}^{(k)} - \\mu) - (p_{ij}^{(l)}-\\mu)| = \\sum_{i=1}^{h}\\sum_{j=1}^{w} |{p}_{ij}^{(k)} - {p}_{ij}^{(l)}| =  ||{p}^{(k)} - {p}^{(l)}||_1\n",
        "$$\n",
        "2.\n",
        "$$\n",
        "    dist_{kl} = ||\\tilde{p}^{(k)} - \\tilde{p}^{(l)}||_1 = \\sum_{i=1}^{h}\\sum_{j=1}^{w} |\\tilde{p}_{ij}^{(k)} - \\tilde{p}_{ij}^{(l)}| = \\sum_{i=1}^{h}\\sum_{j=1}^{w} |(p_{ij}^{(k)} - \\mu_{ij}) - (p_{ij}^{(l)}-\\mu_{ij})| = \\\\ = \\sum_{i=1}^{h}\\sum_{j=1}^{w} |{p}_{ij}^{(k)} - {p}_{ij}^{(l)}| =  ||{p}^{(k)} - {p}^{(l)}||_1\n",
        "$$\n",
        "3. Пусть для ${p}_{ij}^{(k)},\\; {p}_{ij}^{(l)},\\; {p}_{ij}^{(m)}$ справедливо $||{p}^{(k)} - {p}^{(l)}||_1 < ||{p}^{(k)} - {p}^{(m)}||_1.$ Тут считаю, что от ${p}_{ij}^{(k)},\\; {p}_{ij}^{(l)},\\; {p}_{ij}^{(m)}$ уже вычтено $\\mu$ Тогда:\n",
        "$$\n",
        "    ||\\tilde{p}^{(k)} - \\tilde{p}^{(l)}||_1 = \\sum_{i=1}^{h}\\sum_{j=1}^{w} |{p}_{ij}^{(k)}/\\sigma - {p}_{ij}^{(l)}/\\sigma| = \\frac{1}{\\sigma}\\sum_{i=1}^{h}\\sum_{j=1}^{w} |{p}_{ij}^{(k)} - {p}_{ij}^{(l)}| < \\frac{1}{\\sigma}\\sum_{i=1}^{h}\\sum_{j=1}^{w} |{p}_{ij}^{(k)} - {p}_{ij}^{(m)}| = \\sum_{i=1}^{h}\\sum_{j=1}^{w} |{p}_{ij}^{(k)}/\\sigma - {p}_{ij}^{(m)}/\\sigma| = ||\\tilde{p}^{(k)} - \\tilde{p}^{(m)}||_1\n",
        "$$\n",
        "Следовательно порядок классов в predict_labels(self, dists, k=1) не изменится, а значит результат останется тот же.\n",
        "4. Адекватный контрпример я придумать не сумел, но кажется возможно найти такой $\\sigma_{ij}$, чтобы $||{p}^{(k)} - {p}^{(l)}||_1$ < $||{p}^{(i)} - {p}^{(m)}||_1$ обернулась в $||\\tilde{p}^{(k)} - \\tilde{p}^{(l)}||_1$ > $||\\tilde{p}^{(i)} - \\tilde{p}^{(m)}||_1$\n",
        "5. Пусть $x_1 = \\begin{pmatrix}  0\\\\ 1 \\end{pmatrix}, x_2 = \\begin{pmatrix}  1\\\\ -1 \\end{pmatrix}, x_3 = \\begin{pmatrix}  2\\\\ 1 \\end{pmatrix}$. Осуществим поворот на $π/2$, матрица поворота $A = \\begin{pmatrix}  \\sqrt2/2 & -\\sqrt2/2\\\\ \\sqrt2/2 & \\sqrt2/2 \\end{pmatrix}$. Тогда\n",
        "$$\n",
        "\\tilde x_1 = \\begin{pmatrix}  0.7\\\\ 0.7 \\end{pmatrix}, \\tilde x_2 = \\begin{pmatrix}  0\\\\ -1.4 \\end{pmatrix}, \\tilde x_3 = \\begin{pmatrix}  2.1\\\\ -0.7 \\end{pmatrix}\\\\\n",
        "||\\tilde x_1 - x_2||_1 = 2\\sqrt2; ||\\tilde x_2 - x_3||_1 = 2\\sqrt2;\\\\\n",
        "||\\tilde x_1 - x_2||_1 = 2; ||\\tilde x_2 - x_3||_1 = 3;\n",
        "$$\n"
      ]
    },
    {
      "cell_type": "markdown",
      "metadata": {
        "id": "vmaye0pqWhgi"
      },
      "source": [
        "## Question 3\n",
        "\n",
        "Which of the following statements about $k$-Nearest Neighbor ($k$-NN) are true in a classification setting, and for all $k$? Select all that apply.\n",
        "1. The decision boundary (hyperplane between classes in feature space) of the k-NN classifier is linear.\n",
        "2. The training error of a 1-NN will always be lower than that of 5-NN.\n",
        "3. The test error of a 1-NN will always be lower than that of a 5-NN.\n",
        "4. The time needed to classify a test example with the k-NN classifier grows with the size of the training set.\n",
        "5. None of the above.\n",
        "\n",
        "*Your Answer:*\n",
        "\n",
        "(2), 4\n",
        "\n",
        "*Your Explanation:*\n",
        "1. Нет, гипреплоскость может быть произвольной. Как пример можно привести: в центре красные точки, вокруг бубликом расположены синие. Ну и в [презентации](http://www.machinelearning.ru/wiki/images/c/c3/Voron-ML-Metric-slides.pdf) К. В. Воронцова тоже есть неплохой пример на слайде 13\n",
        "2. Не совсем понял что такое training error. В kNN мы просто запоминаем все точки для обучения. Конечно, если мы на тех же попытаемся протестировать, то ошибка для $k = 1$ всегда будет меньше (расстояние между точками из теста и запомненных всегда 0).\n",
        "3. Нужно проверить несколько значений $k$, для минимизации ошибки. Как пример можно привести то, что k>1 соседей может быть лучше при наличии выбросов, так из-за например единичного выброса соседние к нему точки не поменяют класс, в отличие от 1-NN.\n",
        "4. Конечно, ведь расстояние нужно посчитать для каждого из тестовой выборки с каждым из тренировочной.\n",
        "\n"
      ]
    }
  ],
  "metadata": {
    "kernelspec": {
      "display_name": "mipt",
      "language": "python",
      "name": "mipt"
    },
    "language_info": {
      "codemirror_mode": {
        "name": "ipython",
        "version": 3
      },
      "file_extension": ".py",
      "mimetype": "text/x-python",
      "name": "python",
      "nbconvert_exporter": "python",
      "pygments_lexer": "ipython3",
      "version": "3.9.5"
    },
    "colab": {
      "provenance": []
    }
  },
  "nbformat": 4,
  "nbformat_minor": 0
}